{
 "cells": [
  {
   "cell_type": "markdown",
   "metadata": {},
   "source": [
    "# TD 3: Equation de Schrödinger et puits de potentiel"
   ]
  },
  {
   "cell_type": "markdown",
   "metadata": {},
   "source": [
    "Ce notebook vise à illustrer le TD3 dans lequel a été résolu l'équation de Schrödinger dans le cas des états stationnaires de la fonction d'onde. On cherche ici à proposer une solution à l'équation de Schrödinger pour un paquet d'onde gaussien. La visualisation proposera également une visualisation en 2D."
   ]
  },
  {
   "cell_type": "code",
   "execution_count": 1,
   "metadata": {},
   "outputs": [],
   "source": [
    "import numpy as np\n",
    "import matplotlib.pyplot as plt\n",
    "from matplotlib.animation import FuncAnimation\n",
    "from matplotlib.patches import Rectangle"
   ]
  },
  {
   "cell_type": "markdown",
   "metadata": {},
   "source": [
    "### Implémentation de fonctions utiles"
   ]
  },
  {
   "cell_type": "markdown",
   "metadata": {},
   "source": [
    "L'intégration de l'équation de Schrödinger peut se faire en utilisant un schéma de Crank-Nicolson:\n",
    "\n",
    "$$\n",
    "-\\frac{\\hbar^2}{2m}\\Delta \\psi + V(x)\\psi(x,t) = i\\hbar \\frac{\\partial \\psi}{\\partial t}\n",
    "$$\n",
    "\n"
   ]
  },
  {
   "cell_type": "code",
   "execution_count": 2,
   "metadata": {},
   "outputs": [],
   "source": [
    "def psi0(x, y, x0, y0, sigma=0.5, k=15*np.pi):\n",
    "    \"\"\"\n",
    "    Wave function for the initial time step (t=0)\n",
    "    Initial position (x0, y0)\n",
    "    Default parameters:\n",
    "        - sigma = 0.5 -> Gaussian dispersion\n",
    "        - k = 15*np.pi -> Wave number, proportional to the momentum\n",
    "    \n",
    "    \"\"\"\n",
    "    return np.exp(-((x-x0)**2 + (y-y0)**2)/(4*sigma**2)) * np.exp(1j*k*x)"
   ]
  },
  {
   "cell_type": "code",
   "execution_count": null,
   "metadata": {},
   "outputs": [],
   "source": [
    "# =============================================================================\n",
    "# Parameters\n",
    "# =============================================================================\n",
    "\n",
    "L = 8 # Well of width L. Shafts from 0 to +L.\n",
    "Dy = 0.05 # Spatial step size.\n",
    "Dt = Dy**2/4 # Temporal step size.\n",
    "Nx = int(L/Dy) + 1 # Number of points on the x axis.\n",
    "Ny = int(L/Dy) + 1 # Number of points on the y axis.\n",
    "Nt = 500 # Number of time steps.\n",
    "rx = -Dt/(2j*Dy**2) # Constant to simplify expressions.\n",
    "ry = -Dt/(2j*Dy**2) # Constant to simplify expressions.\n",
    "\n",
    "# Initial position of the center of the Gaussian wave function.\n",
    "x0 = L/5\n",
    "y0 = L/2\n",
    "\n",
    "# Parameters of the double slit.\n",
    "w = 0.6 # Width of the walls of the double slit.\n",
    "s = 0.8 # Separation between the edges of the slits.\n",
    "a = 0.2 # Aperture of the slits.\n",
    "\n",
    "# Indices that parameterize the double slit in the space of points.\n",
    "# Horizontal axis.\n",
    "j0 = int(1/(2*Dy)*(L-w)) # Left edge.\n",
    "j1 = int(1/(2*Dy)*(L+w)) # Right edge.\n",
    "# Eje vertical.\n",
    "i0 = int(1/(2*Dy)*(L+s) + a/Dy) # Lower edge of the lower slit.\n",
    "i1 = int(1/(2*Dy)*(L+s))        # Upper edge of the lower slit.\n",
    "i2 = int(1/(2*Dy)*(L-s))        # Lower edge of the upper slit.\n",
    "i3 = int(1/(2*Dy)*(L-s) - a/Dy) # Upper edge of the upper slit.\n",
    "\n",
    "# We generate the potential related to the double slit.\n",
    "v0 = 200\n",
    "v = np.zeros((Ny,Ny), complex) \n",
    "v[0:i3, j0:j1] = v0\n",
    "v[i2:i1,j0:j1] = v0\n",
    "v[i0:,  j0:j1] = v0\n",
    "    \n",
    "Ni = (Nx-2)*(Ny-2)  # Number of unknown factors v[i,j], i = 1,...,Nx-2, j = 1,...,Ny-2\n"
   ]
  }
 ],
 "metadata": {
  "kernelspec": {
   "display_name": "base",
   "language": "python",
   "name": "python3"
  },
  "language_info": {
   "codemirror_mode": {
    "name": "ipython",
    "version": 3
   },
   "file_extension": ".py",
   "mimetype": "text/x-python",
   "name": "python",
   "nbconvert_exporter": "python",
   "pygments_lexer": "ipython3",
   "version": "3.10.13"
  }
 },
 "nbformat": 4,
 "nbformat_minor": 2
}
