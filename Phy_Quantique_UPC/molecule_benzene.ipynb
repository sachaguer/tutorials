{
 "cells": [
  {
   "cell_type": "markdown",
   "metadata": {},
   "source": [
    "# TD 5: Molécule de benzène"
   ]
  },
  {
   "cell_type": "markdown",
   "metadata": {},
   "source": [
    "Author: Sacha Guerrini"
   ]
  },
  {
   "cell_type": "markdown",
   "metadata": {},
   "source": [
    "Dans la feuille de TD 5, nous nous sommes intéressés à la molécule de benzène $C_6H_6$. Nous avons étudié la dynamique des électrons libres capables de se déplacer d'un atome de carbone à l'autre par effet tunnel. Nous avions trouvé que les valeurs et kets propres du Hamiltonien était les suivants:\n",
    "\n",
    "\\begin{align*}\n",
    "r_k &= \\exp \\left(\\frac{2 i k \\pi}{6} \\right)\\\\\n",
    "|r_k \\rangle &= \\frac{1}{\\sqrt{6}} \\underset{n=1}{\\overset{6}{\\sum}}\\exp \\left( \\frac{2 i k\\pi}{6}(n-1)\\right)|n\\rangle\n",
    "\\end{align*}\n",
    "\n",
    "où $\\{|n \\rangle \\}_{n \\in \\llbracket 1,6 \\rrbracket}$ est la base canonique de l'espace de Hilbert de dimension 6 indiquant un état dans lequel l'électron est localisé autour de l'atome de carbone numéroté $n$.\n",
    "\n",
    "Dans ce notebook, on propose de visualiser une partie des résultats établis pendant le TD afin d'en apporter une représentation visuelle. Nous considérerons d'abord la dynamique d'un état stationnaire, avant d'en étudier la superposition étudiée en cours."
   ]
  },
  {
   "cell_type": "code",
   "execution_count": 176,
   "metadata": {},
   "outputs": [],
   "source": [
    "import numpy as np\n",
    "import matplotlib.pyplot as plt\n",
    "import matplotlib.animation as animation\n",
    "from matplotlib.animation import FuncAnimation\n",
    "from matplotlib.cm import ScalarMappable\n",
    "from matplotlib.colors import Normalize\n",
    "import astropy.units as u\n",
    "import astropy.constants as const\n",
    "from tqdm import tqdm"
   ]
  },
  {
   "cell_type": "markdown",
   "metadata": {},
   "source": [
    "L'expression des $| r_k \\rangle$ rappelée ci-dessus définie une matrice de passage des vecteurs de la base $\\{|n \\rangle\\}$ vers la base $\\{ |r_k \\rangle \\}$. Implémentons là à l'aide de `numpy`."
   ]
  },
  {
   "cell_type": "code",
   "execution_count": 134,
   "metadata": {},
   "outputs": [
    {
     "name": "stdout",
     "output_type": "stream",
     "text": [
      "[[ 0.40824829+0.00000000e+00j  0.20412415-3.53553391e-01j\n",
      "  -0.20412415-3.53553391e-01j -0.40824829-4.99959962e-17j\n",
      "  -0.20412415+3.53553391e-01j  0.20412415+3.53553391e-01j]\n",
      " [ 0.40824829+0.00000000e+00j  0.40824829+0.00000000e+00j\n",
      "   0.40824829+0.00000000e+00j  0.40824829+0.00000000e+00j\n",
      "   0.40824829+0.00000000e+00j  0.40824829+0.00000000e+00j]\n",
      " [ 0.40824829+0.00000000e+00j  0.20412415+3.53553391e-01j\n",
      "  -0.20412415+3.53553391e-01j -0.40824829+4.99959962e-17j\n",
      "  -0.20412415-3.53553391e-01j  0.20412415-3.53553391e-01j]\n",
      " [ 0.40824829+0.00000000e+00j -0.20412415+3.53553391e-01j\n",
      "  -0.20412415-3.53553391e-01j  0.40824829-9.99919924e-17j\n",
      "  -0.20412415+3.53553391e-01j -0.20412415-3.53553391e-01j]\n",
      " [ 0.40824829+0.00000000e+00j -0.40824829+4.99959962e-17j\n",
      "   0.40824829-9.99919924e-17j -0.40824829+1.49987989e-16j\n",
      "   0.40824829-1.99983985e-16j -0.40824829+2.49979981e-16j]\n",
      " [ 0.40824829+0.00000000e+00j -0.20412415-3.53553391e-01j\n",
      "  -0.20412415+3.53553391e-01j  0.40824829-1.99983985e-16j\n",
      "  -0.20412415-3.53553391e-01j -0.20412415+3.53553391e-01j]]\n"
     ]
    }
   ],
   "source": [
    "P = np.array([\n",
    "    [1/np.sqrt(6)*np.exp(1j*2*np.pi*k/6*(n-1)) for k in range(6)]\n",
    "for n in range(6)], dtype=np.complex128)\n",
    "\n",
    "print(P)"
   ]
  },
  {
   "cell_type": "code",
   "execution_count": 135,
   "metadata": {},
   "outputs": [
    {
     "name": "stdout",
     "output_type": "stream",
     "text": [
      "[0.40824829+0.j 0.40824829+0.j 0.40824829+0.j 0.40824829+0.j\n",
      " 0.40824829+0.j 0.40824829+0.j]\n"
     ]
    }
   ],
   "source": [
    "#On peut vérifier que si on applique P à un vecteur de la base canonique, on obtient un vecteur de r_k\n",
    "n_0 = np.array([1, 0, 0, 0, 0, 0])\n",
    "\n",
    "print(P @ n_0)"
   ]
  },
  {
   "cell_type": "markdown",
   "metadata": {},
   "source": [
    "Considérons d'abord le cas simple des états stationnaires. Considérons par exemple l'état $|r_1 \\rangle$ dont l'énergie propre est $E_0 - a$, alors l'opérateur d'évolution donne que:\n",
    "\n",
    "$$\n",
    "|r_1(t) \\rangle = \\exp\\left(-\\frac{i (E_0 - a)t}{\\hbar} \\right)|r_1 \\rangle\n",
    "$$\n",
    "\n",
    "où $a=2.4$ eV. L'énergie $E_0$ n'a pas d'importance dans ce qui suit. On la prendra donc égale à 10 eV par défaut."
   ]
  },
  {
   "cell_type": "code",
   "execution_count": 191,
   "metadata": {},
   "outputs": [],
   "source": [
    "a = 2.4 #eV\n",
    "E_0 = 10 #eV\n",
    "spectrum = np.array([\n",
    "    E_0 - 2*a,\n",
    "    E_0 - a,\n",
    "    E_0 + a,\n",
    "    E_0 + 2*a,\n",
    "    E_0 + a,\n",
    "    E_0 - a\n",
    "])\n",
    "hbar = const.hbar.to(u.eV * u.s).value\n",
    "\n",
    "def evol_r_t(t, r):\n",
    "    #Définis les constantes avec les bonnes unités\n",
    "    r = np.copy(r)\n",
    "    for k in range(6):\n",
    "        r[k] = np.exp(-1j * spectrum[k] * t / hbar) * r[k]\n",
    "    return r\n",
    "\n",
    "def get_proba_n(n, r):\n",
    "    \"\"\"\n",
    "    Calcule la probabilité que l'électron soit autour d'un atome n sachant le vecteur d'état r dans la base des états stationnaires r_k\n",
    "    \"\"\"\n",
    "    return (np.abs(np.linalg.inv(P) @ r)**2)[n]"
   ]
  },
  {
   "cell_type": "code",
   "execution_count": 206,
   "metadata": {},
   "outputs": [
    {
     "name": "stderr",
     "output_type": "stream",
     "text": [
      "100%|██████████| 1000/1000 [00:00<00:00, 5868.95it/s]\n"
     ]
    }
   ],
   "source": [
    "#On calcule maintenant l'évolution temporelle de l'état\n",
    "n_steps = 1000\n",
    "t = np.linspace(0, 1e-15, n_steps)\n",
    "\n",
    "r = np.array([1, 0, 0, 0, 0, 0], dtype=np.complex128) #On commence dans l'état r_0\n",
    "\n",
    "probas = []\n",
    "\n",
    "for i in tqdm(range(len(t))):\n",
    "    r_i = evol_r_t(t[i], r)\n",
    "    probas.append([get_proba_n(n, r_i) for n in range(6)])\n",
    "\n",
    "probas = np.array(probas)"
   ]
  },
  {
   "cell_type": "code",
   "execution_count": 207,
   "metadata": {},
   "outputs": [],
   "source": [
    "#Et on plot!\n",
    "def anim_plot(probas, n_steps, n_atoms, output_path):\n",
    "\n",
    "    angles = np.linspace(0, 2*np.pi, n_atoms, endpoint=False)\n",
    "    positions = np.array([np.cos(angles), np.sin(angles)]).T\n",
    "\n",
    "    fig, ax = plt.subplots(figsize=(7,7))\n",
    "    ax.set_xlim(-1.5, 1.5)\n",
    "    ax.set_ylim(-1.5, 1.5)\n",
    "    ax.set_aspect('equal')\n",
    "    ax.axis('off')\n",
    "\n",
    "    # Dessiner les lignes reliant les atomes\n",
    "    for i in range(n_atoms):\n",
    "        start = positions[i]\n",
    "        end = positions[(i + 1) % n_atoms]  # Boucler sur le premier atome\n",
    "        ax.plot([start[0], end[0]], [start[1], end[1]], color='black', lw=2, alpha=0.5)\n",
    "\n",
    "    # Création des cercles pour les atomes\n",
    "    circles = [plt.Circle(pos, 0.1, color='white', ec='black') for pos in positions]\n",
    "    for circle in circles:\n",
    "        ax.add_patch(circle)\n",
    "\n",
    "    # Ajout des numéros d'atomes\n",
    "    for i, (x, y) in enumerate(positions):\n",
    "        if i in [0, 1, 5]:\n",
    "            ax.text(x+0.2, y, 'C'+str(i), color='black', ha='center', va='center', fontsize=10, weight='bold')\n",
    "        else:\n",
    "            ax.text(x-0.2, y, 'C'+str(i), color='black', ha='center', va='center', fontsize=10, weight='bold')\n",
    "\n",
    "    # Création de la barre de couleur\n",
    "    norm = Normalize(vmin=0, vmax=1)\n",
    "    sm = ScalarMappable(cmap='coolwarm', norm=norm)\n",
    "    sm.set_array([])\n",
    "    cbar = plt.colorbar(sm, ax=ax, orientation='vertical', fraction=0.046, pad=0.04)\n",
    "    cbar.set_label('Probabilité', fontsize=12)\n",
    "\n",
    "    ax.set_title('Probabilité de présence de l\\'électron autour de chaque atome de carbone\\n dans la molécule de benzène')\n",
    "\n",
    "    text = ax.text(-1.4, 1.4, 'Time:', fontsize=12)\n",
    "    # Fonction d'animation\n",
    "    def update(frame):\n",
    "        for prob, circle in zip(probas[frame], circles):\n",
    "            circle.set_facecolor(sm.to_rgba(prob))\n",
    "        text.set_text('Time: {:.2e} fs'.format(t[frame]*1e15))\n",
    "        return circles\n",
    "\n",
    "    # Création de l'animation\n",
    "    ani = FuncAnimation(fig, update, frames=n_steps, interval=100, blit=True)\n",
    "\n",
    "    plt.close(fig)  # Éviter l'affichage du graphique statique\n",
    "\n",
    "    #save animation\n",
    "    # Sauvegarde de l'animation en GIF\n",
    "    writer = animation.PillowWriter(fps=60,\n",
    "                                    metadata=dict(artist='Me'),\n",
    "                                    bitrate=1800)\n",
    "    ani.save(output_path, writer=writer)\n",
    "\n",
    "    print('output_path:', output_path)"
   ]
  },
  {
   "cell_type": "code",
   "execution_count": 208,
   "metadata": {},
   "outputs": [
    {
     "name": "stdout",
     "output_type": "stream",
     "text": [
      "output_path: benzene_etat_stationnaire.gif\n"
     ]
    }
   ],
   "source": [
    "n_atoms = 6\n",
    "output_path = 'benzene_etat_stationnaire.gif'\n",
    "anim_plot(probas, n_steps, n_atoms, output_path)"
   ]
  },
  {
   "cell_type": "code",
   "execution_count": 210,
   "metadata": {},
   "outputs": [
    {
     "data": {
      "text/html": [
       "<img src=\"benzene_etat_stationnaire.gif\" style=\"width:50%;\">"
      ],
      "text/plain": [
       "<IPython.core.display.HTML object>"
      ]
     },
     "execution_count": 210,
     "metadata": {},
     "output_type": "execute_result"
    }
   ],
   "source": [
    "from IPython.display import HTML\n",
    "\n",
    "# Afficher le GIF avec HTML\n",
    "HTML(f'<img src=\"{output_path}\" style=\"width:50%;\">')"
   ]
  },
  {
   "cell_type": "markdown",
   "metadata": {},
   "source": [
    "On observe que l'électron est complètement délocalisé. La probabilité de l'observe autour d'un carbone $|n\\rangle$ est constante au cours du temps. Intéressons nous maintenant à la superposition de deux états stationnaires comme dans le TD5:\n",
    "\n",
    "$$\n",
    "| \\psi \\rangle = \\frac{1}{\\sqrt{2}}(|r_0\\rangle + |r_1 \\rangle)\n",
    "$$"
   ]
  },
  {
   "cell_type": "code",
   "execution_count": 199,
   "metadata": {},
   "outputs": [
    {
     "name": "stderr",
     "output_type": "stream",
     "text": [
      "100%|██████████| 1000/1000 [00:00<00:00, 2610.79it/s]\n"
     ]
    }
   ],
   "source": [
    "#On calcule maintenant l'évolution temporelle de l'état\n",
    "n_steps = 1000\n",
    "t = np.linspace(0, 2e-15, n_steps)\n",
    "\n",
    "r = 1/np.sqrt(2)*np.array([1, 1, 0, 0, 0, 0], dtype=np.complex128) #On commence dans l'état r_0 + r_1\n",
    "\n",
    "probas = []\n",
    "\n",
    "for i in tqdm(range(len(t))):\n",
    "    r_i = evol_r_t(t[i], r)\n",
    "    proba = [get_proba_n(n, r_i) for n in range(6)]\n",
    "    assert np.isclose(np.sum(proba), 1)\n",
    "    probas.append(proba)\n",
    "\n",
    "probas = np.array(probas)"
   ]
  },
  {
   "cell_type": "code",
   "execution_count": 200,
   "metadata": {},
   "outputs": [
    {
     "data": {
      "image/png": "[encoded data removed]",
      "text/plain": [
       "<Figure size 640x480 with 1 Axes>"
      ]
     },
     "metadata": {},
     "output_type": "display_data"
    }
   ],
   "source": [
    "plt.figure()\n",
    "\n",
    "plt.plot(t, probas[:, 0], label='Probabilité de présence autour de C1', lw=3)\n",
    "theory = 1/6 + 1/6*np.cos(a*t/hbar)\n",
    "plt.plot(t, theory, c='k', label='Théorie', ls='--')\n",
    "plt.axhline(1/6, c='r', label='Probabilité moyenne')\n",
    "plt.axhline(0, c='r', ls='--')\n",
    "plt.axhline(1/3, c='r', ls='--')\n",
    "plt.ylim(0, 1/2)\n",
    "plt.xlabel('Temps (s)')\n",
    "plt.ylabel('Probabilité')\n",
    "plt.title('Probabilité de présence de l\\'électron autour de l\\'atome de carbone C1\\n en fonction du temps')\n",
    "plt.legend()\n",
    "\n",
    "plt.show()"
   ]
  },
  {
   "cell_type": "markdown",
   "metadata": {},
   "source": [
    "On peut d'abord vérifier le résultat obtenu dans le TD que la probabilité d'observer l'électron autour du carbone 1 suit une évolution sinusoïdale au cours du temps."
   ]
  },
  {
   "cell_type": "code",
   "execution_count": 201,
   "metadata": {},
   "outputs": [
    {
     "name": "stdout",
     "output_type": "stream",
     "text": [
      "output_path: benzene_superposition.gif\n"
     ]
    }
   ],
   "source": [
    "n_atoms = 6\n",
    "output_path = 'benzene_superposition.gif'\n",
    "anim_plot(probas, n_steps, n_atoms, output_path)"
   ]
  },
  {
   "cell_type": "code",
   "execution_count": 202,
   "metadata": {},
   "outputs": [
    {
     "data": {
      "text/html": [
       "<img src=\"benzene_superposition.gif\" style=\"width:50%;\">"
      ],
      "text/plain": [
       "<IPython.core.display.HTML object>"
      ]
     },
     "execution_count": 202,
     "metadata": {},
     "output_type": "execute_result"
    }
   ],
   "source": [
    "# Afficher le GIF avec HTML\n",
    "HTML(f'<img src=\"{output_path}\" style=\"width:50%;\">')"
   ]
  },
  {
   "cell_type": "markdown",
   "metadata": {},
   "source": [
    "On voit ici que pour chaque carbone la probabilité d'y trouver l'électron oscille entre 0 et 1/3."
   ]
  },
  {
   "cell_type": "markdown",
   "metadata": {},
   "source": [
    "On peut voir alors la probabilité se propager entre les atomes de carbone. Regardons maintenant un état initialement localisé sur un atome de carbone, disons le carbone numéroté 0:\n",
    "\n",
    "$$\n",
    "|\\psi \\rangle = |0 \\rangle\n",
    "$$"
   ]
  },
  {
   "cell_type": "code",
   "execution_count": 203,
   "metadata": {},
   "outputs": [
    {
     "name": "stderr",
     "output_type": "stream",
     "text": [
      "100%|██████████| 1000/1000 [00:00<00:00, 5268.95it/s]\n"
     ]
    }
   ],
   "source": [
    "t = np.linspace(0, 2e-15, n_steps)\n",
    "\n",
    "r = P @ np.array([1, 0, 0, 0, 0, 0], dtype=np.complex128) #On commence dans l'état |0>\n",
    "\n",
    "probas = []\n",
    "for i in tqdm(range(len(t))):\n",
    "    r_i = evol_r_t(t[i], r)\n",
    "    probas.append([get_proba_n(n, r_i) for n in range(6)])\n",
    "\n",
    "probas = np.array(probas)"
   ]
  },
  {
   "cell_type": "code",
   "execution_count": 204,
   "metadata": {},
   "outputs": [
    {
     "name": "stdout",
     "output_type": "stream",
     "text": [
      "output_path: benzene_start_0.gif\n"
     ]
    }
   ],
   "source": [
    "n_atoms = 6\n",
    "output_path = 'benzene_start_0.gif'\n",
    "anim_plot(probas, n_steps, n_atoms, output_path)"
   ]
  },
  {
   "cell_type": "code",
   "execution_count": 205,
   "metadata": {},
   "outputs": [
    {
     "data": {
      "text/html": [
       "<img src=\"benzene_start_0.gif\" style=\"width:50%;\">"
      ],
      "text/plain": [
       "<IPython.core.display.HTML object>"
      ]
     },
     "execution_count": 205,
     "metadata": {},
     "output_type": "execute_result"
    }
   ],
   "source": [
    "# Afficher le GIF avec HTML\n",
    "HTML(f'<img src=\"{output_path}\" style=\"width:50%;\">')"
   ]
  },
  {
   "cell_type": "markdown",
   "metadata": {},
   "source": [
    "On peut voir la densité de probabilité se propager entre les atomes de carbone et interférer pour ponctuellement augmenter la probabilité de certains carbones (3 et 0). Cela met également en évidence le fait qu'un état $|n \\rangle$ n'est pas un état stationnaire. C'est ce que l'on attend comme ces états ne sont pas des états propres du Hamiltonien considéré."
   ]
  },
  {
   "cell_type": "markdown",
   "metadata": {},
   "source": []
  }
 ],
 "metadata": {
  "kernelspec": {
   "display_name": "base",
   "language": "python",
   "name": "python3"
  },
  "language_info": {
   "codemirror_mode": {
    "name": "ipython",
    "version": 3
   },
   "file_extension": ".py",
   "mimetype": "text/x-python",
   "name": "python",
   "nbconvert_exporter": "python",
   "pygments_lexer": "ipython3",
   "version": "3.10.13"
  }
 },
 "nbformat": 4,
 "nbformat_minor": 2
}
